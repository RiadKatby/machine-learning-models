{
 "cells": [
  {
   "cell_type": "markdown",
   "id": "04407d76",
   "metadata": {},
   "source": [
    "# Life Satisfaction\n",
    "We will build Linear Regression to Predict Life Satisfaction of Country using GDP per Capita for that Country, usually this used to know if money makes people happy.\n",
    "So we got 2 databases:\n",
    "1. Better Life Index from [OECD's Website](https://stats.oecd.org/index.aspx?DataSetCode=BLI)\n",
    "2. GDP per capita from [IMF's Website](https://www.imf.org/en/Publications/SPROLLS/world-economic-outlook-databases#sort=%40imfdate%20descending)\n",
    "\n",
    "We will join them based on Country using **prepare_country_stats** method, then use **GDP per capita** Column as **X** and **Life satisfaction** as **y** to train the model.\n",
    "\n",
    "Then we will use **model** to predict Life Satisfaction of Cypriots as OECD database does not have it"
   ]
  },
  {
   "cell_type": "markdown",
   "id": "abdc2074",
   "metadata": {},
   "source": [
    "# 1. Download and Preprocess the Data"
   ]
  },
  {
   "cell_type": "markdown",
   "id": "977ca51d",
   "metadata": {},
   "source": [
    "## 1.1 Download and Load Data"
   ]
  },
  {
   "cell_type": "code",
   "execution_count": 1,
   "id": "364e482b",
   "metadata": {},
   "outputs": [
    {
     "name": "stderr",
     "output_type": "stream",
     "text": [
      "Cloning into 'machine-learning-models'...\n",
      "Updating files:  13% (440/3330)\n",
      "Updating files:  14% (467/3330)\n",
      "Updating files:  15% (500/3330)\n",
      "Updating files:  16% (533/3330)\n",
      "Updating files:  17% (567/3330)\n",
      "Updating files:  18% (600/3330)\n",
      "Updating files:  19% (633/3330)\n",
      "Updating files:  20% (666/3330)\n",
      "Updating files:  21% (700/3330)\n",
      "Updating files:  22% (733/3330)\n",
      "Updating files:  23% (766/3330)\n",
      "Updating files:  24% (800/3330)\n",
      "Updating files:  25% (833/3330)\n",
      "Updating files:  26% (866/3330)\n",
      "Updating files:  27% (900/3330)\n",
      "Updating files:  28% (933/3330)\n",
      "Updating files:  29% (966/3330)\n",
      "Updating files:  30% (999/3330)\n",
      "Updating files:  30% (1001/3330)\n",
      "Updating files:  31% (1033/3330)\n",
      "Updating files:  32% (1066/3330)\n",
      "Updating files:  33% (1099/3330)\n",
      "Updating files:  34% (1133/3330)\n",
      "Updating files:  35% (1166/3330)\n",
      "Updating files:  36% (1199/3330)\n",
      "Updating files:  37% (1233/3330)\n",
      "Updating files:  38% (1266/3330)\n",
      "Updating files:  39% (1299/3330)\n",
      "Updating files:  40% (1332/3330)\n",
      "Updating files:  41% (1366/3330)\n",
      "Updating files:  42% (1399/3330)\n",
      "Updating files:  43% (1432/3330)\n",
      "Updating files:  44% (1466/3330)\n",
      "Updating files:  45% (1499/3330)\n",
      "Updating files:  45% (1515/3330)\n",
      "Updating files:  46% (1532/3330)\n",
      "Updating files:  47% (1566/3330)\n",
      "Updating files:  48% (1599/3330)\n",
      "Updating files:  49% (1632/3330)\n",
      "Updating files:  50% (1665/3330)\n",
      "Updating files:  51% (1699/3330)\n",
      "Updating files:  52% (1732/3330)\n",
      "Updating files:  53% (1765/3330)\n",
      "Updating files:  54% (1799/3330)\n",
      "Updating files:  55% (1832/3330)\n",
      "Updating files:  56% (1865/3330)\n",
      "Updating files:  57% (1899/3330)\n",
      "Updating files:  58% (1932/3330)\n",
      "Updating files:  59% (1965/3330)\n",
      "Updating files:  60% (1998/3330)\n",
      "Updating files:  61% (2032/3330)\n",
      "Updating files:  62% (2065/3330)\n",
      "Updating files:  62% (2071/3330)\n",
      "Updating files:  63% (2098/3330)\n",
      "Updating files:  64% (2132/3330)\n",
      "Updating files:  65% (2165/3330)\n",
      "Updating files:  66% (2198/3330)\n",
      "Updating files:  67% (2232/3330)\n",
      "Updating files:  68% (2265/3330)\n",
      "Updating files:  69% (2298/3330)\n",
      "Updating files:  70% (2331/3330)\n",
      "Updating files:  71% (2365/3330)\n",
      "Updating files:  72% (2398/3330)\n",
      "Updating files:  73% (2431/3330)\n",
      "Updating files:  74% (2465/3330)\n",
      "Updating files:  75% (2498/3330)\n",
      "Updating files:  76% (2531/3330)\n",
      "Updating files:  77% (2565/3330)\n",
      "Updating files:  78% (2598/3330)\n",
      "Updating files:  78% (2625/3330)\n",
      "Updating files:  79% (2631/3330)\n",
      "Updating files:  80% (2664/3330)\n",
      "Updating files:  81% (2698/3330)\n",
      "Updating files:  82% (2731/3330)\n",
      "Updating files:  83% (2764/3330)\n",
      "Updating files:  84% (2798/3330)\n",
      "Updating files:  85% (2831/3330)\n",
      "Updating files:  86% (2864/3330)\n",
      "Updating files:  87% (2898/3330)\n",
      "Updating files:  88% (2931/3330)\n",
      "Updating files:  89% (2964/3330)\n",
      "Updating files:  90% (2997/3330)\n",
      "Updating files:  90% (3011/3330)\n",
      "Updating files:  91% (3031/3330)\n",
      "Updating files:  92% (3064/3330)\n",
      "Updating files:  93% (3097/3330)\n",
      "Updating files:  94% (3131/3330)\n",
      "Updating files:  95% (3164/3330)\n",
      "Updating files:  96% (3197/3330)\n",
      "Updating files:  97% (3231/3330)\n",
      "Updating files:  98% (3264/3330)\n",
      "Updating files:  99% (3297/3330)\n",
      "Updating files: 100% (3330/3330)\n",
      "Updating files: 100% (3330/3330), done.\n"
     ]
    }
   ],
   "source": [
    "!git clone https://github.com/RiadKatby/machine-learning-models.git --depth 1\n",
    "\n",
    "DATA_PATH = './machine-learning-models/datasets/lifesat/'"
   ]
  },
  {
   "cell_type": "code",
   "execution_count": 2,
   "id": "6cefddbe",
   "metadata": {},
   "outputs": [],
   "source": [
    "import pandas as pd\n",
    "\n",
    "oecd_bli = pd.read_csv(DATA_PATH + 'oecd_bli_2015.csv', thousands=',')\n",
    "gdp_per_capita = pd.read_csv(DATA_PATH + 'gdp_per_capita.csv', thousands=',', delimiter='\\t', encoding='latin1', na_values='n/a')"
   ]
  },
  {
   "cell_type": "markdown",
   "id": "8376be6a",
   "metadata": {},
   "source": [
    "## 1.2 Preprocess Data"
   ]
  },
  {
   "cell_type": "code",
   "execution_count": 3,
   "id": "1569500d",
   "metadata": {},
   "outputs": [],
   "source": [
    "import numpy as np\n",
    "\n",
    "def prepare_country_stats(oecd_bli, gdp_per_capita):\n",
    "    oecd_bli = oecd_bli[oecd_bli[\"INEQUALITY\"]==\"TOT\"]\n",
    "    oecd_bli = oecd_bli.pivot(index=\"Country\", columns=\"Indicator\", values=\"Value\")\n",
    "    gdp_per_capita.rename(columns={\"2015\": \"GDP per capita\"}, inplace=True)\n",
    "    gdp_per_capita.set_index(\"Country\", inplace=True)\n",
    "    full_country_stats = pd.merge(left=oecd_bli, right=gdp_per_capita,\n",
    "                                  left_index=True, right_index=True)\n",
    "    full_country_stats.sort_values(by=\"GDP per capita\", inplace=True)\n",
    "    remove_indices = [0, 1, 6, 8, 33, 34, 35]\n",
    "    keep_indices = list(set(range(36)) - set(remove_indices))\n",
    "    return full_country_stats[[\"GDP per capita\", 'Life satisfaction']].iloc[keep_indices]\n",
    "\n",
    "country_stats = prepare_country_stats(oecd_bli, gdp_per_capita)\n",
    "X = np.c_[country_stats['GDP per capita']]\n",
    "y = np.c_[country_stats['Life satisfaction']]"
   ]
  },
  {
   "cell_type": "markdown",
   "id": "7b57cdb6",
   "metadata": {},
   "source": [
    "# 2. Train the Model"
   ]
  },
  {
   "cell_type": "code",
   "execution_count": 4,
   "id": "81063e66",
   "metadata": {},
   "outputs": [
    {
     "data": {
      "text/plain": [
       "LinearRegression()"
      ]
     },
     "execution_count": 4,
     "metadata": {},
     "output_type": "execute_result"
    }
   ],
   "source": [
    "import sklearn.linear_model\n",
    "\n",
    "model = sklearn.linear_model.LinearRegression()\n",
    "model.fit(X, y)"
   ]
  },
  {
   "cell_type": "markdown",
   "id": "d81372e5",
   "metadata": {},
   "source": [
    "# 3. Predicting Result"
   ]
  },
  {
   "cell_type": "code",
   "execution_count": 5,
   "id": "6993136f",
   "metadata": {},
   "outputs": [
    {
     "name": "stdout",
     "output_type": "stream",
     "text": [
      "[[5.96242338]]\n"
     ]
    }
   ],
   "source": [
    "# Predict Cyprus. Its Life Satisfaction not in database, fortunatly we know it GDP per Capita\n",
    "X_new = [[22587]] # GDP per Capita\n",
    "print(model.predict(X_new))"
   ]
  },
  {
   "cell_type": "markdown",
   "id": "9602460d",
   "metadata": {},
   "source": [
    "# 4. Visualization"
   ]
  },
  {
   "cell_type": "code",
   "execution_count": 6,
   "id": "bfdb31fd",
   "metadata": {},
   "outputs": [
    {
     "data": {
      "text/plain": [
       "Text(0.5, 1.0, 'Raw Data')"
      ]
     },
     "execution_count": 6,
     "metadata": {},
     "output_type": "execute_result"
    },
    {
     "data": {
      "image/png": "[encoded data removed]",
      "text/plain": [
       "<Figure size 360x216 with 1 Axes>"
      ]
     },
     "metadata": {
      "needs_background": "light"
     },
     "output_type": "display_data"
    }
   ],
   "source": [
    "import matplotlib.pyplot as plt\n",
    "\n",
    "country_stats.plot(kind='scatter', x='GDP per capita', y='Life satisfaction', figsize=(5,3))\n",
    "plt.axis([0, 60000, 0, 10])\n",
    "plt.title('Raw Data')"
   ]
  },
  {
   "cell_type": "code",
   "execution_count": 7,
   "id": "d066b65c",
   "metadata": {},
   "outputs": [
    {
     "data": {
      "text/plain": [
       "[<matplotlib.lines.Line2D at 0x178d3c9b430>]"
      ]
     },
     "execution_count": 7,
     "metadata": {},
     "output_type": "execute_result"
    },
    {
     "data": {
      "image/png": "[encoded data removed]",
      "text/plain": [
       "<Figure size 360x216 with 1 Axes>"
      ]
     },
     "metadata": {
      "needs_background": "light"
     },
     "output_type": "display_data"
    }
   ],
   "source": [
    "t0, t1 = model.intercept_[0], model.coef_[0][0]\n",
    "\n",
    "country_stats.plot(kind='scatter', x='GDP per capita', y='Life satisfaction', figsize=(5,3))\n",
    "plt.axis([0, 60000, 0, 10])\n",
    "plt.title('Raw Data with Prediction Line')\n",
    "\n",
    "fX=np.linspace(0, 60000, 1000)\n",
    "plt.plot(fX, t0 + t1*fX, \"r\")"
   ]
  },
  {
   "cell_type": "code",
   "execution_count": null,
   "id": "21cf3126",
   "metadata": {},
   "outputs": [],
   "source": []
  }
 ],
 "metadata": {
  "kernelspec": {
   "display_name": "Python 3 (ipykernel)",
   "language": "python",
   "name": "python3"
  },
  "language_info": {
   "codemirror_mode": {
    "name": "ipython",
    "version": 3
   },
   "file_extension": ".py",
   "mimetype": "text/x-python",
   "name": "python",
   "nbconvert_exporter": "python",
   "pygments_lexer": "ipython3",
   "version": "3.8.12"
  }
 },
 "nbformat": 4,
 "nbformat_minor": 5
}
