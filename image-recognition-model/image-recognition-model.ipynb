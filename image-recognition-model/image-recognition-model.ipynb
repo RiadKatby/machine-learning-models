{
 "cells": [
  {
   "cell_type": "markdown",
   "id": "c397bb86",
   "metadata": {},
   "source": [
    "# Build Computer Vision Model\n",
    "## Image Recognition - Classification\n",
    "\n",
    "### 1. Load & Preprocess Image Dataset"
   ]
  },
  {
   "cell_type": "code",
   "execution_count": 1,
   "id": "82c6344d",
   "metadata": {},
   "outputs": [
    {
     "name": "stdout",
     "output_type": "stream",
     "text": [
      "Found 241 images belonging to 3 classes.\n",
      "Found 60 images belonging to 3 classes.\n"
     ]
    }
   ],
   "source": [
    "from tensorflow.keras.preprocessing.image import ImageDataGenerator\n",
    "\n",
    "datagen = ImageDataGenerator(rescale=1./255, validation_split=0.2)\n",
    "\n",
    "# Flow training images in batches of 20 using train_datagen generator\n",
    "train_generator = datagen.flow_from_directory(\n",
    "    './samples',             # This is the source directory for training images\n",
    "    target_size=(150, 150),  # All images will be resized to 150x150\n",
    "    batch_size=20,\n",
    "    class_mode='categorical', # Since we use categorical_crossentropy loss, we need binary labels\n",
    "    subset='training'\n",
    ")\n",
    "\n",
    "validation_generator = datagen.flow_from_directory(\n",
    "    './samples',\n",
    "    target_size=(150, 150),\n",
    "    batch_size=20,\n",
    "    class_mode='categorical',\n",
    "    subset='validation'\n",
    ")"
   ]
  },
  {
   "cell_type": "markdown",
   "id": "295d4077",
   "metadata": {},
   "source": [
    "### 2. Build Deep Learning CNN Model"
   ]
  },
  {
   "cell_type": "code",
   "execution_count": 16,
   "id": "0dc07e82",
   "metadata": {},
   "outputs": [],
   "source": [
    "import tensorflow as tf\n",
    "from tensorflow.keras.optimizers import RMSprop\n",
    "\n",
    "opt = RMSprop(learning_rate=1e-4)\n",
    "def create_model():\n",
    "    model = tf.keras.models.Sequential([\n",
    "        tf.keras.layers.Conv2D(32, (3,3), activation='relu', input_shape=(150, 150, 3)),\n",
    "        tf.keras.layers.MaxPooling2D(2, 2),\n",
    "        tf.keras.layers.Conv2D(64, (3,3), activation='relu'),\n",
    "        tf.keras.layers.MaxPooling2D(2,2),\n",
    "        tf.keras.layers.Conv2D(128, (3,3), activation='relu'),\n",
    "        tf.keras.layers.MaxPooling2D(2,2),\n",
    "        tf.keras.layers.Conv2D(128, (3,3), activation='relu'),\n",
    "        tf.keras.layers.MaxPooling2D(2,2),\n",
    "        tf.keras.layers.Flatten(),\n",
    "        tf.keras.layers.Dense(512, activation='relu'),\n",
    "        tf.keras.layers.Dense(3, activation='sigmoid')\n",
    "    ])\n",
    "    \n",
    "    model.compile(loss='categorical_crossentropy',\n",
    "                  optimizer=opt,\n",
    "                  metrics=['accuracy'])\n",
    "    return model"
   ]
  },
  {
   "cell_type": "markdown",
   "id": "da2bd462",
   "metadata": {},
   "source": [
    "### 3. Train, and Validate the Model"
   ]
  },
  {
   "cell_type": "code",
   "execution_count": 17,
   "id": "b1b3fa5b",
   "metadata": {},
   "outputs": [
    {
     "name": "stdout",
     "output_type": "stream",
     "text": [
      "Epoch 1/20\n",
      "13/13 - 10s - loss: 1.0445 - accuracy: 0.5643 - val_loss: 1.1374 - val_accuracy: 0.3333\n",
      "Epoch 2/20\n",
      "13/13 - 6s - loss: 0.8700 - accuracy: 0.6805 - val_loss: 0.6775 - val_accuracy: 0.8000\n",
      "Epoch 3/20\n",
      "13/13 - 6s - loss: 0.6209 - accuracy: 0.7884 - val_loss: 0.7218 - val_accuracy: 0.6333\n",
      "Epoch 4/20\n",
      "13/13 - 6s - loss: 0.4405 - accuracy: 0.8299 - val_loss: 0.3125 - val_accuracy: 0.9333\n",
      "Epoch 5/20\n",
      "13/13 - 6s - loss: 0.3340 - accuracy: 0.9336 - val_loss: 0.2281 - val_accuracy: 0.9500\n",
      "Epoch 6/20\n",
      "13/13 - 6s - loss: 0.2663 - accuracy: 0.9419 - val_loss: 0.1874 - val_accuracy: 1.0000\n",
      "Epoch 7/20\n",
      "13/13 - 6s - loss: 0.1963 - accuracy: 0.9461 - val_loss: 0.3025 - val_accuracy: 0.8000\n",
      "Epoch 8/20\n",
      "13/13 - 6s - loss: 0.1197 - accuracy: 0.9876 - val_loss: 0.0997 - val_accuracy: 1.0000\n",
      "Epoch 9/20\n",
      "13/13 - 6s - loss: 0.1675 - accuracy: 0.9502 - val_loss: 0.1192 - val_accuracy: 1.0000\n",
      "Epoch 10/20\n",
      "13/13 - 6s - loss: 0.0560 - accuracy: 1.0000 - val_loss: 0.0832 - val_accuracy: 1.0000\n",
      "Epoch 11/20\n",
      "13/13 - 6s - loss: 0.0847 - accuracy: 0.9876 - val_loss: 0.0716 - val_accuracy: 1.0000\n",
      "Epoch 12/20\n",
      "13/13 - 6s - loss: 0.0266 - accuracy: 1.0000 - val_loss: 0.0713 - val_accuracy: 1.0000\n",
      "Epoch 13/20\n",
      "13/13 - 6s - loss: 0.2329 - accuracy: 0.9627 - val_loss: 0.0919 - val_accuracy: 0.9500\n",
      "Epoch 14/20\n",
      "13/13 - 6s - loss: 0.0168 - accuracy: 1.0000 - val_loss: 0.1176 - val_accuracy: 1.0000\n",
      "Epoch 15/20\n",
      "13/13 - 7s - loss: 0.0140 - accuracy: 1.0000 - val_loss: 0.0450 - val_accuracy: 1.0000\n",
      "Epoch 16/20\n",
      "13/13 - 7s - loss: 0.0088 - accuracy: 1.0000 - val_loss: 0.0351 - val_accuracy: 1.0000\n",
      "Epoch 17/20\n",
      "13/13 - 7s - loss: 0.3085 - accuracy: 0.9585 - val_loss: 0.0434 - val_accuracy: 1.0000\n",
      "Epoch 18/20\n",
      "13/13 - 7s - loss: 0.0072 - accuracy: 1.0000 - val_loss: 0.0428 - val_accuracy: 1.0000\n",
      "Epoch 19/20\n",
      "13/13 - 6s - loss: 0.0081 - accuracy: 1.0000 - val_loss: 0.0355 - val_accuracy: 1.0000\n",
      "Epoch 20/20\n",
      "13/13 - 6s - loss: 0.0053 - accuracy: 1.0000 - val_loss: 0.0223 - val_accuracy: 1.0000\n"
     ]
    }
   ],
   "source": [
    "# Constant for epochs\n",
    "EPOCHS = 20\n",
    "\n",
    "# Create a new model\n",
    "model = create_model()\n",
    "\n",
    "# Train the model\n",
    "history = model.fit(train_generator, epochs=EPOCHS, validation_data=validation_generator, verbose=2)"
   ]
  },
  {
   "cell_type": "markdown",
   "id": "96b97175",
   "metadata": {},
   "source": [
    "### 4. Plot Accuracy and Loss / Epochs"
   ]
  },
  {
   "cell_type": "code",
   "execution_count": 18,
   "id": "f1b7bd27",
   "metadata": {},
   "outputs": [
    {
     "data": {
      "image/png": "[encoded data removed]",
      "text/plain": [
       "<Figure size 432x288 with 1 Axes>"
      ]
     },
     "metadata": {
      "needs_background": "light"
     },
     "output_type": "display_data"
    },
    {
     "data": {
      "image/png": "[encoded data removed]",
      "text/plain": [
       "<Figure size 432x288 with 1 Axes>"
      ]
     },
     "metadata": {
      "needs_background": "light"
     },
     "output_type": "display_data"
    }
   ],
   "source": [
    "import matplotlib.pyplot as plt\n",
    "\n",
    "def plot_graphs(history, string):\n",
    "  plt.plot(history.history[string])\n",
    "  plt.plot(history.history['val_'+string])\n",
    "  plt.xlabel(\"Epochs\")\n",
    "  plt.ylabel(string)\n",
    "  plt.legend([string, 'val_'+string])\n",
    "  plt.show()\n",
    "  \n",
    "plot_graphs(history, \"accuracy\")\n",
    "plot_graphs(history, \"loss\")"
   ]
  },
  {
   "cell_type": "markdown",
   "id": "4ad17c5a",
   "metadata": {},
   "source": [
    "### 5. Test and Try"
   ]
  },
  {
   "cell_type": "code",
   "execution_count": 28,
   "id": "b013ae23",
   "metadata": {},
   "outputs": [
    {
     "name": "stdout",
     "output_type": "stream",
     "text": [
      "Class: Lego, Confidence score: 0.99998\n"
     ]
    }
   ],
   "source": [
    "from PIL import Image, ImageOps\n",
    "import numpy as np\n",
    "\n",
    "image = Image.open('./samples/Chess/63.jpg').convert('RGB')\n",
    "image = ImageOps.fit(image, (150, 150), Image.Resampling.LANCZOS)\n",
    "\n",
    "#turn the image into a numpy array\n",
    "image_array = np.asarray(image)\n",
    "\n",
    "# Create the array of the right shape to feed into the keras model\n",
    "# The 'length' or number of images you can put into the array is\n",
    "# determined by the first position in the shape tuple, in this case 1.\n",
    "data = np.ndarray(shape=(1, 150, 150, 3), dtype=np.float32)\n",
    "data[0] = (image_array.astype(np.float32) / 255.0) - 1 # Load Normalized image\n",
    "\n",
    "labels = dict((v, k) for k,v in train_generator.class_indices.items())\n",
    "prediction = model.predict(data)\n",
    "index = np.argmax(prediction)\n",
    "\n",
    "class_name = labels[index]\n",
    "confidence_score = prediction[0][index]\n",
    "\n",
    "print('Class:', class_name, end=', ')\n",
    "print('Confidence score:', confidence_score)"
   ]
  },
  {
   "cell_type": "code",
   "execution_count": null,
   "id": "02be2b13",
   "metadata": {},
   "outputs": [],
   "source": []
  }
 ],
 "metadata": {
  "kernelspec": {
   "display_name": "Python 3 (ipykernel)",
   "language": "python",
   "name": "python3"
  },
  "language_info": {
   "codemirror_mode": {
    "name": "ipython",
    "version": 3
   },
   "file_extension": ".py",
   "mimetype": "text/x-python",
   "name": "python",
   "nbconvert_exporter": "python",
   "pygments_lexer": "ipython3",
   "version": "3.8.12"
  }
 },
 "nbformat": 4,
 "nbformat_minor": 5
}
