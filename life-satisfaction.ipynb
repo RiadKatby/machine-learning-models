{
 "cells": [
  {
   "cell_type": "markdown",
   "id": "04407d76",
   "metadata": {},
   "source": [
    "# Life Satisfaction\n",
    "We will build Linear Regression to Predict Life Satisfaction of Country using GDP per Capita for that Country, usually this used to know if money makes people happy.\n",
    "So we got 2 databases:\n",
    "1. Better Life Index from [OECD's Website](https://stats.oecd.org/index.aspx?DataSetCode=BLI)\n",
    "2. GDP per capita from [IMF's Website](https://www.imf.org/en/Publications/SPROLLS/world-economic-outlook-databases#sort=%40imfdate%20descending)\n",
    "\n",
    "We will join them based on Country using **prepare_country_stats** method, then use **GDP per capita** Column as **X** and **Life satisfaction** as **y** to train the model.\n",
    "\n",
    "Then we will use **model** to predict Life Satisfaction of Cypriots as OECD database does not have it"
   ]
  },
  {
   "cell_type": "markdown",
   "id": "abdc2074",
   "metadata": {},
   "source": [
    "# 1. Download and Preprocess the Data"
   ]
  },
  {
   "cell_type": "markdown",
   "id": "977ca51d",
   "metadata": {},
   "source": [
    "## 1.1 Download and Load Data"
   ]
  },
  {
   "cell_type": "code",
   "execution_count": 1,
   "id": "364e482b",
   "metadata": {},
   "outputs": [],
   "source": [
    "!git clone https://github.com/RiadKatby/machine-learning-models.git --depth 1\n",
    "\n",
    "DATA_PATH = './machine-learning-models/datasets/lifesat/'"
   ]
  },
  {
   "cell_type": "code",
   "execution_count": 3,
   "id": "6cefddbe",
   "metadata": {},
   "outputs": [],
   "source": [
    "import pandas as pd\n",
    "\n",
    "oecd_bli = pd.read_csv(DATA_PATH + 'oecd_bli_2015.csv', thousands=',')\n",
    "gdp_per_capita = pd.read_csv(DATA_PATH + 'gdp_per_capita.csv', thousands=',', delimiter='\\t', encoding='latin1', na_values='n/a')"
   ]
  },
  {
   "cell_type": "markdown",
   "id": "8376be6a",
   "metadata": {},
   "source": [
    "## 1.2 Preprocess Data"
   ]
  },
  {
   "cell_type": "code",
   "execution_count": 9,
   "id": "1569500d",
   "metadata": {},
   "outputs": [],
   "source": [
    "import numpy as np\n",
    "\n",
    "def prepare_country_stats(oecd_bli, gdp_per_capita):\n",
    "    oecd_bli = oecd_bli[oecd_bli[\"INEQUALITY\"]==\"TOT\"]\n",
    "    oecd_bli = oecd_bli.pivot(index=\"Country\", columns=\"Indicator\", values=\"Value\")\n",
    "    gdp_per_capita.rename(columns={\"2015\": \"GDP per capita\"}, inplace=True)\n",
    "    gdp_per_capita.set_index(\"Country\", inplace=True)\n",
    "    full_country_stats = pd.merge(left=oecd_bli, right=gdp_per_capita,\n",
    "                                  left_index=True, right_index=True)\n",
    "    full_country_stats.sort_values(by=\"GDP per capita\", inplace=True)\n",
    "    remove_indices = [0, 1, 6, 8, 33, 34, 35]\n",
    "    keep_indices = list(set(range(36)) - set(remove_indices))\n",
    "    return full_country_stats[[\"GDP per capita\", 'Life satisfaction']].iloc[keep_indices]\n",
    "\n",
    "country_stats = prepare_country_stats(oecd_bli, gdp_per_capita)\n",
    "X = np.c_[country_stats['GDP per capita']]\n",
    "y = np.c_[country_stats['Life satisfaction']]"
   ]
  },
  {
   "cell_type": "markdown",
   "id": "7b57cdb6",
   "metadata": {},
   "source": [
    "# 2. Train the Model"
   ]
  },
  {
   "cell_type": "code",
   "execution_count": 17,
   "id": "81063e66",
   "metadata": {},
   "outputs": [],
   "source": [
    "import sklearn.linear_model\n",
    "\n",
    "model = sklearn.linear_model.LinearRegression()\n",
    "model.fit(X, y)"
   ]
  },
  {
   "cell_type": "markdown",
   "id": "d81372e5",
   "metadata": {},
   "source": [
    "# 3. Predicting Result"
   ]
  },
  {
   "cell_type": "code",
   "execution_count": 25,
   "id": "6993136f",
   "metadata": {},
   "outputs": [
    {
     "name": "stdout",
     "output_type": "stream",
     "text": [
      "[[5.96242338]]\n"
     ]
    }
   ],
   "source": [
    "# Predict Cyprus. Its Life Satisfaction not in database, fortunatly we know it GDP per Capita\n",
    "X_new = [[22587]] # GDP per Capita\n",
    "print(model.predict(X_new))"
   ]
  },
  {
   "cell_type": "markdown",
   "id": "9602460d",
   "metadata": {},
   "source": [
    "# 4. Visualization"
   ]
  },
  {
   "cell_type": "code",
   "execution_count": 6,
   "id": "bfdb31fd",
   "metadata": {},
   "outputs": [],
   "source": [
    "import matplotlib.pyplot as plt\n",
    "\n",
    "country_stats.plot(kind='scatter', x='GDP per capita', y='Life satisfaction', figsize=(5,3))\n",
    "plt.axis([0, 60000, 0, 10])\n",
    "plt.title('Raw Data')"
   ]
  },
  {
   "cell_type": "code",
   "execution_count": 8,
   "id": "d066b65c",
   "metadata": {},
   "outputs": [],
   "source": [
    "t0, t1 = model.intercept_[0], model.coef_[0][0]\n",
    "\n",
    "country_stats.plot(kind='scatter', x='GDP per capita', y='Life satisfaction', figsize=(5,3))\n",
    "plt.axis([0, 60000, 0, 10])\n",
    "plt.title('Raw Data with Prediction Line')\n",
    "\n",
    "fX=np.linspace(0, 60000, 1000)\n",
    "plt.plot(fX, t0 + t1*fX, \"r\")"
   ]
  },
  {
   "cell_type": "code",
   "execution_count": null,
   "id": "21cf3126",
   "metadata": {},
   "outputs": [],
   "source": []
  }
 ],
 "metadata": {
  "kernelspec": {
   "display_name": "Python 3 (ipykernel)",
   "language": "python",
   "name": "python3"
  },
  "language_info": {
   "codemirror_mode": {
    "name": "ipython",
    "version": 3
   },
   "file_extension": ".py",
   "mimetype": "text/x-python",
   "name": "python",
   "nbconvert_exporter": "python",
   "pygments_lexer": "ipython3",
   "version": "3.9.7"
  }
 },
 "nbformat": 4,
 "nbformat_minor": 5
}
