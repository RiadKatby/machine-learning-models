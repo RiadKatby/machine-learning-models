{
 "cells": [
  {
   "cell_type": "markdown",
   "id": "0f8c644b",
   "metadata": {},
   "source": [
    "# Image Classification\n",
    "## 1. Load & Preprocess Data\n",
    "1.1 rescale image\n",
    "\n",
    "1.2 rotate, shift, shear, zoom and flip\n",
    "\n",
    "1.3 Resize all images into 150 x 150"
   ]
  },
  {
   "cell_type": "code",
   "execution_count": 4,
   "id": "8bda319a",
   "metadata": {},
   "outputs": [
    {
     "name": "stdout",
     "output_type": "stream",
     "text": [
      "Found 2520 images belonging to 3 classes.\n",
      "Found 372 images belonging to 3 classes.\n"
     ]
    }
   ],
   "source": [
    "import tensorflow as tf\n",
    "from tensorflow.keras.preprocessing.image import ImageDataGenerator\n",
    "\n",
    "training_datagen = ImageDataGenerator(\n",
    "    rescale = 1./255,\n",
    "    rotation_range=40,\n",
    "    width_shift_range=0.2, height_shift_range=0.2,\n",
    "    shear_range=0.2,\n",
    "    zoom_range=0.2,\n",
    "    horizontal_flip=True,\n",
    "    fill_mode='nearest')\n",
    "\n",
    "validation_datagen = ImageDataGenerator(rescale = 1./255)\n",
    "\n",
    "train_generator = training_datagen.flow_from_directory(\n",
    "    './training',\n",
    "    target_size=(150,150),\n",
    "    class_mode='categorical'\n",
    ")\n",
    "\n",
    "validation_generator = validation_datagen.flow_from_directory(\n",
    "    './testing',\n",
    "    target_size=(150,150),\n",
    "    class_mode='categorical'\n",
    ")"
   ]
  },
  {
   "cell_type": "markdown",
   "id": "3a400c6b",
   "metadata": {},
   "source": [
    "## 2. Build Deep Learning Model"
   ]
  },
  {
   "cell_type": "code",
   "execution_count": 6,
   "id": "114c54fe",
   "metadata": {},
   "outputs": [
    {
     "name": "stdout",
     "output_type": "stream",
     "text": [
      "Model: \"sequential\"\n",
      "_________________________________________________________________\n",
      " Layer (type)                Output Shape              Param #   \n",
      "=================================================================\n",
      " conv2d (Conv2D)             (None, 148, 148, 64)      1792      \n",
      "                                                                 \n",
      " max_pooling2d (MaxPooling2D  (None, 74, 74, 64)       0         \n",
      " )                                                               \n",
      "                                                                 \n",
      " conv2d_1 (Conv2D)           (None, 72, 72, 64)        36928     \n",
      "                                                                 \n",
      " max_pooling2d_1 (MaxPooling  (None, 36, 36, 64)       0         \n",
      " 2D)                                                             \n",
      "                                                                 \n",
      " conv2d_2 (Conv2D)           (None, 34, 34, 128)       73856     \n",
      "                                                                 \n",
      " max_pooling2d_2 (MaxPooling  (None, 17, 17, 128)      0         \n",
      " 2D)                                                             \n",
      "                                                                 \n",
      " conv2d_3 (Conv2D)           (None, 15, 15, 128)       147584    \n",
      "                                                                 \n",
      " max_pooling2d_3 (MaxPooling  (None, 7, 7, 128)        0         \n",
      " 2D)                                                             \n",
      "                                                                 \n",
      " flatten (Flatten)           (None, 6272)              0         \n",
      "                                                                 \n",
      " dropout (Dropout)           (None, 6272)              0         \n",
      "                                                                 \n",
      " dense (Dense)               (None, 512)               3211776   \n",
      "                                                                 \n",
      " dense_1 (Dense)             (None, 3)                 1539      \n",
      "                                                                 \n",
      "=================================================================\n",
      "Total params: 3,473,475\n",
      "Trainable params: 3,473,475\n",
      "Non-trainable params: 0\n",
      "_________________________________________________________________\n"
     ]
    }
   ],
   "source": [
    "model = tf.keras.models.Sequential([\n",
    "    # Note the input shape is the desired size of the image 150x150 with 3 bytes color\n",
    "    # This is the first convolution\n",
    "    tf.keras.layers.Conv2D(64, (3,3), activation='relu', input_shape=(150, 150, 3)),\n",
    "    tf.keras.layers.MaxPooling2D(2, 2),\n",
    "    # The second convolution\n",
    "    tf.keras.layers.Conv2D(64, (3,3), activation='relu'),\n",
    "    tf.keras.layers.MaxPooling2D(2,2),\n",
    "    # The third convolution\n",
    "    tf.keras.layers.Conv2D(128, (3,3), activation='relu'),\n",
    "    tf.keras.layers.MaxPooling2D(2,2),\n",
    "    # The fourth convolution\n",
    "    tf.keras.layers.Conv2D(128, (3,3), activation='relu'),\n",
    "    tf.keras.layers.MaxPooling2D(2,2),\n",
    "    # Flatten the results to feed into a DNN\n",
    "    tf.keras.layers.Flatten(),\n",
    "    tf.keras.layers.Dropout(0.5),\n",
    "    # 512 neuron hidden layer\n",
    "    tf.keras.layers.Dense(512, activation='relu'),\n",
    "    tf.keras.layers.Dense(3, activation='softmax')\n",
    "])\n",
    "\n",
    "\n",
    "model.summary()\n",
    "\n",
    "model.compile(loss = 'categorical_crossentropy', optimizer='rmsprop', metrics=['accuracy'])"
   ]
  },
  {
   "cell_type": "markdown",
   "id": "b8834100",
   "metadata": {},
   "source": [
    "## 3. Train, and Validate the Model"
   ]
  },
  {
   "cell_type": "code",
   "execution_count": 7,
   "id": "fb414f33",
   "metadata": {},
   "outputs": [
    {
     "name": "stderr",
     "output_type": "stream",
     "text": [
      "C:\\Users\\MoRiK\\AppData\\Local\\Temp\\ipykernel_21776\\560590515.py:1: UserWarning: `Model.fit_generator` is deprecated and will be removed in a future version. Please use `Model.fit`, which supports generators.\n",
      "  history = model.fit_generator(train_generator, epochs=25, validation_data = validation_generator, verbose = 1)\n"
     ]
    },
    {
     "name": "stdout",
     "output_type": "stream",
     "text": [
      "Epoch 1/25\n",
      "79/79 [==============================] - 38s 477ms/step - loss: 1.1183 - accuracy: 0.3909 - val_loss: 1.0754 - val_accuracy: 0.3737\n",
      "Epoch 2/25\n",
      "79/79 [==============================] - 31s 390ms/step - loss: 0.9546 - accuracy: 0.5619 - val_loss: 0.5346 - val_accuracy: 0.6828\n",
      "Epoch 3/25\n",
      "79/79 [==============================] - 31s 395ms/step - loss: 0.6435 - accuracy: 0.7218 - val_loss: 0.4189 - val_accuracy: 0.7581\n",
      "Epoch 4/25\n",
      "79/79 [==============================] - 32s 399ms/step - loss: 0.4387 - accuracy: 0.8143 - val_loss: 0.0982 - val_accuracy: 0.9677\n",
      "Epoch 5/25\n",
      "79/79 [==============================] - 31s 396ms/step - loss: 0.2955 - accuracy: 0.8897 - val_loss: 0.0372 - val_accuracy: 1.0000\n",
      "Epoch 6/25\n",
      "79/79 [==============================] - 31s 395ms/step - loss: 0.2423 - accuracy: 0.9127 - val_loss: 0.1023 - val_accuracy: 0.9704\n",
      "Epoch 7/25\n",
      "79/79 [==============================] - 31s 393ms/step - loss: 0.2125 - accuracy: 0.9218 - val_loss: 0.1333 - val_accuracy: 0.9489\n",
      "Epoch 8/25\n",
      "79/79 [==============================] - 31s 395ms/step - loss: 0.1775 - accuracy: 0.9381 - val_loss: 0.1353 - val_accuracy: 0.9489\n",
      "Epoch 9/25\n",
      "79/79 [==============================] - 31s 396ms/step - loss: 0.1353 - accuracy: 0.9512 - val_loss: 0.0288 - val_accuracy: 0.9973\n",
      "Epoch 10/25\n",
      "79/79 [==============================] - 31s 394ms/step - loss: 0.1505 - accuracy: 0.9456 - val_loss: 0.0538 - val_accuracy: 0.9785\n",
      "Epoch 11/25\n",
      "79/79 [==============================] - 31s 397ms/step - loss: 0.1204 - accuracy: 0.9607 - val_loss: 0.1639 - val_accuracy: 0.9489\n",
      "Epoch 12/25\n",
      "79/79 [==============================] - 32s 409ms/step - loss: 0.1046 - accuracy: 0.9667 - val_loss: 0.0281 - val_accuracy: 0.9812\n",
      "Epoch 13/25\n",
      "79/79 [==============================] - 32s 406ms/step - loss: 0.1203 - accuracy: 0.9623 - val_loss: 0.0718 - val_accuracy: 0.9677\n",
      "Epoch 14/25\n",
      "79/79 [==============================] - 33s 410ms/step - loss: 0.0926 - accuracy: 0.9687 - val_loss: 0.0291 - val_accuracy: 0.9839\n",
      "Epoch 15/25\n",
      "79/79 [==============================] - 32s 400ms/step - loss: 0.1142 - accuracy: 0.9639 - val_loss: 0.1012 - val_accuracy: 0.9570\n",
      "Epoch 16/25\n",
      "79/79 [==============================] - 32s 407ms/step - loss: 0.1058 - accuracy: 0.9655 - val_loss: 0.0508 - val_accuracy: 0.9651\n",
      "Epoch 17/25\n",
      "79/79 [==============================] - 32s 402ms/step - loss: 0.0876 - accuracy: 0.9663 - val_loss: 0.0249 - val_accuracy: 0.9892\n",
      "Epoch 18/25\n",
      "79/79 [==============================] - 32s 400ms/step - loss: 0.1019 - accuracy: 0.9647 - val_loss: 0.0383 - val_accuracy: 0.9812\n",
      "Epoch 19/25\n",
      "79/79 [==============================] - 31s 396ms/step - loss: 0.0958 - accuracy: 0.9730 - val_loss: 0.0444 - val_accuracy: 0.9677\n",
      "Epoch 20/25\n",
      "79/79 [==============================] - 31s 397ms/step - loss: 0.0799 - accuracy: 0.9742 - val_loss: 0.2067 - val_accuracy: 0.8978\n",
      "Epoch 21/25\n",
      "79/79 [==============================] - 32s 398ms/step - loss: 0.0806 - accuracy: 0.9766 - val_loss: 0.0191 - val_accuracy: 0.9973\n",
      "Epoch 22/25\n",
      "79/79 [==============================] - 33s 413ms/step - loss: 0.0659 - accuracy: 0.9758 - val_loss: 0.0366 - val_accuracy: 0.9839\n",
      "Epoch 23/25\n",
      "79/79 [==============================] - 32s 401ms/step - loss: 0.0600 - accuracy: 0.9802 - val_loss: 0.0082 - val_accuracy: 1.0000\n",
      "Epoch 24/25\n",
      "79/79 [==============================] - 32s 398ms/step - loss: 0.0758 - accuracy: 0.9770 - val_loss: 0.0057 - val_accuracy: 1.0000\n",
      "Epoch 25/25\n",
      "79/79 [==============================] - 32s 402ms/step - loss: 0.0806 - accuracy: 0.9806 - val_loss: 0.0720 - val_accuracy: 0.9758\n"
     ]
    }
   ],
   "source": [
    "history = model.fit_generator(train_generator, epochs=25, validation_data = validation_generator, verbose = 1)"
   ]
  },
  {
   "cell_type": "markdown",
   "id": "66451997",
   "metadata": {},
   "source": [
    "## 4. Plot Accuracy and Loss / Epochs"
   ]
  },
  {
   "cell_type": "code",
   "execution_count": 9,
   "id": "ba6c3e0f",
   "metadata": {},
   "outputs": [
    {
     "data": {
      "image/png": "[encoded data removed]",
      "text/plain": [
       "<Figure size 432x288 with 1 Axes>"
      ]
     },
     "metadata": {
      "needs_background": "light"
     },
     "output_type": "display_data"
    },
    {
     "data": {
      "image/png": "[encoded data removed]",
      "text/plain": [
       "<Figure size 432x288 with 1 Axes>"
      ]
     },
     "metadata": {
      "needs_background": "light"
     },
     "output_type": "display_data"
    }
   ],
   "source": [
    "import matplotlib.pyplot as plt\n",
    "\n",
    "def plot_graphs(history, string):\n",
    "    plt.plot(history.history[string])\n",
    "    plt.plot(history.history['val_'+string])\n",
    "    plt.xlabel(\"Epochs\")\n",
    "    plt.ylabel(string)\n",
    "    plt.legend([string, 'val_'+string])\n",
    "    plt.show()\n",
    "\n",
    "plot_graphs(history, \"accuracy\")\n",
    "plot_graphs(history, \"loss\")"
   ]
  },
  {
   "cell_type": "markdown",
   "id": "69cadf3e",
   "metadata": {},
   "source": [
    "## 5. Test and Try"
   ]
  },
  {
   "cell_type": "code",
   "execution_count": 18,
   "id": "23ab9448",
   "metadata": {},
   "outputs": [
    {
     "name": "stdout",
     "output_type": "stream",
     "text": [
      "1/1 [==============================] - 0s 8ms/step\n",
      "[[0. 1. 0.]]\n"
     ]
    }
   ],
   "source": [
    "from tensorflow.keras.preprocessing import image\n",
    "import numpy as np\n",
    "\n",
    "img = image.load_img('./testing/rock/testrock03-20.png', target_size=(150, 150))\n",
    "x = image.img_to_array(img)\n",
    "x = np.expand_dims(x, axis=0)\n",
    "\n",
    "images = np.vstack([x])\n",
    "classes = model.predict(images, batch_size=10)\n",
    "print(classes)"
   ]
  },
  {
   "cell_type": "code",
   "execution_count": 15,
   "id": "ec6e4d29",
   "metadata": {},
   "outputs": [
    {
     "data": {
      "text/plain": [
       "{'paper': 0, 'rock': 1, 'scissors': 2}"
      ]
     },
     "execution_count": 15,
     "metadata": {},
     "output_type": "execute_result"
    }
   ],
   "source": [
    "validation_generator.class_indices"
   ]
  },
  {
   "cell_type": "code",
   "execution_count": null,
   "id": "a56188f3",
   "metadata": {},
   "outputs": [],
   "source": []
  }
 ],
 "metadata": {
  "kernelspec": {
   "display_name": "Python 3 (ipykernel)",
   "language": "python",
   "name": "python3"
  },
  "language_info": {
   "codemirror_mode": {
    "name": "ipython",
    "version": 3
   },
   "file_extension": ".py",
   "mimetype": "text/x-python",
   "name": "python",
   "nbconvert_exporter": "python",
   "pygments_lexer": "ipython3",
   "version": "3.9.10"
  }
 },
 "nbformat": 4,
 "nbformat_minor": 5
}
