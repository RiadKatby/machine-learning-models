{
 "cells": [
  {
   "cell_type": "markdown",
   "id": "c01dd6a9",
   "metadata": {},
   "source": [
    "# Build Chatbot NLU\n",
    "## 1. Load CSV Dataset"
   ]
  },
  {
   "cell_type": "code",
   "execution_count": 97,
   "id": "cd5f22a3",
   "metadata": {},
   "outputs": [],
   "source": [
    "import pandas as pd\n",
    "import os\n",
    "\n",
    "Questions_PATH=\"./\"\n",
    "\n",
    "def load_dataset(dataset_path=Questions_PATH):\n",
    "    csv_path = os.path.join(dataset_path, \"question-intent.csv\")\n",
    "    return pd.read_csv(csv_path)\n",
    "\n",
    "dataset = load_dataset()\n",
    "#dataset"
   ]
  },
  {
   "cell_type": "markdown",
   "id": "e1d85298",
   "metadata": {},
   "source": [
    "## 2. Preprocess Dataset - Input\n",
    "2.1 Seplit Questions into Words\n",
    "\n",
    "2.2 Remove Stopwords\n",
    "\n",
    "2.3 Root words\n",
    "\n",
    "2.4 Re-join word in one statement"
   ]
  },
  {
   "cell_type": "code",
   "execution_count": 98,
   "id": "cef6a978",
   "metadata": {},
   "outputs": [],
   "source": [
    "from nltk import word_tokenize\n",
    "from nltk.stem.isri import ISRIStemmer\n",
    "from nltk.corpus import stopwords\n",
    "from string import punctuation\n",
    "\n",
    "dataset['جذور السؤال'] = ''\n",
    "\n",
    "st = ISRIStemmer()\n",
    "_stopwords = set(stopwords.words('arabic') + list(punctuation))\n",
    "\n",
    "def preprocess(text):\n",
    "    words = word_tokenize(str(text))\n",
    "    words = [word for word in words if word not in _stopwords]\n",
    "    words = [st.stem(word) for word in words]\n",
    "    return ' '.join(words)\n",
    "\n",
    "for index, row in dataset.iterrows():\n",
    "    dataset['جذور السؤال'][index] = preprocess(row['السؤال'])\n",
    "    \n",
    "#dataset"
   ]
  },
  {
   "cell_type": "markdown",
   "id": "e0b29608",
   "metadata": {},
   "source": [
    "## 3. Preprocess Dataset - Output"
   ]
  },
  {
   "cell_type": "code",
   "execution_count": 99,
   "id": "a25ed941",
   "metadata": {},
   "outputs": [],
   "source": [
    "from sklearn.preprocessing import OneHotEncoder\n",
    "\n",
    "label_cat = dataset[['الخدمة']]\n",
    "\n",
    "cat_encoder = OneHotEncoder()\n",
    "label_cat_1hot = cat_encoder.fit_transform(label_cat).toarray()\n",
    "#label_cat_1hot"
   ]
  },
  {
   "cell_type": "markdown",
   "id": "ba0ab00f",
   "metadata": {},
   "source": [
    "## 4. Shuffle and Split into train, and test sets"
   ]
  },
  {
   "cell_type": "code",
   "execution_count": 100,
   "id": "10ffc1f8",
   "metadata": {},
   "outputs": [
    {
     "name": "stdout",
     "output_type": "stream",
     "text": [
      "52\n",
      "52\n",
      "13\n",
      "13\n"
     ]
    }
   ],
   "source": [
    "import numpy as np\n",
    "\n",
    "def unison_shuffled_copies(a, b):\n",
    "    assert len(a) == len(b)\n",
    "    p = np.random.permutation(len(a))\n",
    "    return a[p], b[p]\n",
    "\n",
    "sentences = dataset['جذور السؤال'].to_numpy()\n",
    "X, Y = unison_shuffled_copies(sentences, label_cat_1hot)\n",
    "\n",
    "training_size = int(len(X) * 0.8)\n",
    "train_X, test_X = X[:training_size], X[training_size:]\n",
    "train_Y, test_Y = Y[:training_size], Y[training_size:]\n",
    "\n",
    "print(len(train_X))\n",
    "print(len(train_Y))\n",
    "\n",
    "print(len(test_X))\n",
    "print(len(test_Y))"
   ]
  },
  {
   "cell_type": "markdown",
   "id": "d3772bd0",
   "metadata": {},
   "source": [
    "## 5. Convert to Sequence, and Padding"
   ]
  },
  {
   "cell_type": "code",
   "execution_count": 101,
   "id": "12f48410",
   "metadata": {},
   "outputs": [],
   "source": [
    "from tensorflow.keras.preprocessing.text import Tokenizer\n",
    "from tensorflow.keras.preprocessing.sequence import pad_sequences\n",
    "\n",
    "oov_tok = \"<OOV>\"\n",
    "trunc_type='post'\n",
    "padding_type='post'\n",
    "max_length = 100\n",
    "vocab_size = 1000\n",
    "embedding_dim = 16\n",
    "\n",
    "tokenizer = Tokenizer(oov_token=oov_tok)\n",
    "tokenizer.fit_on_texts(X)\n",
    "\n",
    "word_index = tokenizer.word_index\n",
    "\n",
    "train_X_seq = tokenizer.texts_to_sequences(train_X)\n",
    "train_X_pad = pad_sequences(train_X_seq, maxlen=max_length, padding=padding_type, truncating=trunc_type)\n",
    "\n",
    "test_X_seq = tokenizer.texts_to_sequences(test_X)\n",
    "test_X_pad = pad_sequences(test_X_seq, maxlen=max_length, padding=padding_type, truncating=trunc_type)"
   ]
  },
  {
   "cell_type": "markdown",
   "id": "045d3de7",
   "metadata": {},
   "source": [
    "## 6. Build Deep Learning Model"
   ]
  },
  {
   "cell_type": "code",
   "execution_count": 102,
   "id": "7a072024",
   "metadata": {},
   "outputs": [],
   "source": [
    "import tensorflow as tf\n",
    "from tensorflow.keras.regularizers import l2\n",
    "from tensorflow.keras.regularizers import l1_l2\n",
    "from tensorflow.keras.optimizers import Adamax\n",
    "\n",
    "lstm_dim = 32\n",
    "dense_dim = 16\n",
    "\n",
    "opt = Adamax(learning_rate=0.03, beta_1=0.8, beta_2=0.9999)\n",
    "model = tf.keras.Sequential([\n",
    "    tf.keras.layers.Embedding(vocab_size, embedding_dim, input_length=max_length),\n",
    "    tf.keras.layers.Bidirectional(tf.keras.layers.LSTM(lstm_dim)),\n",
    "    tf.keras.layers.Dense(dense_dim, activation='relu'),\n",
    "    tf.keras.layers.Dense(5, activation='softmax')\n",
    "])\n",
    "model.compile(loss='categorical_crossentropy',optimizer=opt,metrics=['accuracy'])\n",
    "#model.summary()"
   ]
  },
  {
   "cell_type": "markdown",
   "id": "c7f6f11a",
   "metadata": {},
   "source": [
    "## 7. Train, and Validate the Model"
   ]
  },
  {
   "cell_type": "code",
   "execution_count": 103,
   "id": "613a30a7",
   "metadata": {},
   "outputs": [
    {
     "name": "stdout",
     "output_type": "stream",
     "text": [
      "Epoch 1/40\n",
      "2/2 [==============================] - 3s 612ms/step - loss: 1.6136 - accuracy: 0.2308 - val_loss: 1.6757 - val_accuracy: 0.0769\n",
      "Epoch 2/40\n",
      "2/2 [==============================] - 0s 58ms/step - loss: 1.6227 - accuracy: 0.3269 - val_loss: 1.6632 - val_accuracy: 0.0769\n",
      "Epoch 3/40\n",
      "2/2 [==============================] - 0s 54ms/step - loss: 1.5484 - accuracy: 0.2308 - val_loss: 1.7137 - val_accuracy: 0.0769\n",
      "Epoch 4/40\n",
      "2/2 [==============================] - 0s 58ms/step - loss: 1.4798 - accuracy: 0.2885 - val_loss: 1.5500 - val_accuracy: 0.2308\n",
      "Epoch 5/40\n",
      "2/2 [==============================] - 0s 55ms/step - loss: 1.3285 - accuracy: 0.3654 - val_loss: 1.4256 - val_accuracy: 0.2308\n",
      "Epoch 6/40\n",
      "2/2 [==============================] - 0s 56ms/step - loss: 1.1415 - accuracy: 0.4231 - val_loss: 1.2440 - val_accuracy: 0.3846\n",
      "Epoch 7/40\n",
      "2/2 [==============================] - 0s 56ms/step - loss: 0.9205 - accuracy: 0.5577 - val_loss: 8.6436 - val_accuracy: 0.0769\n",
      "Epoch 8/40\n",
      "2/2 [==============================] - 0s 58ms/step - loss: 4.1293 - accuracy: 0.2500 - val_loss: 5.5125 - val_accuracy: 0.0769\n",
      "Epoch 9/40\n",
      "2/2 [==============================] - 0s 54ms/step - loss: 3.1295 - accuracy: 0.2885 - val_loss: 2.9544 - val_accuracy: 0.0769\n",
      "Epoch 10/40\n",
      "2/2 [==============================] - 0s 54ms/step - loss: 1.8146 - accuracy: 0.2308 - val_loss: 1.3947 - val_accuracy: 0.5385\n",
      "Epoch 11/40\n",
      "2/2 [==============================] - 0s 55ms/step - loss: 1.5423 - accuracy: 0.2885 - val_loss: 1.1628 - val_accuracy: 0.5385\n",
      "Epoch 12/40\n",
      "2/2 [==============================] - 0s 62ms/step - loss: 1.2832 - accuracy: 0.2692 - val_loss: 1.0966 - val_accuracy: 0.5385\n",
      "Epoch 13/40\n",
      "2/2 [==============================] - 0s 55ms/step - loss: 0.9710 - accuracy: 0.6346 - val_loss: 1.2332 - val_accuracy: 0.3846\n",
      "Epoch 14/40\n",
      "2/2 [==============================] - 0s 55ms/step - loss: 0.9207 - accuracy: 0.5769 - val_loss: 1.1900 - val_accuracy: 0.3846\n",
      "Epoch 15/40\n",
      "2/2 [==============================] - 0s 58ms/step - loss: 0.8332 - accuracy: 0.5962 - val_loss: 1.0288 - val_accuracy: 0.6154\n",
      "Epoch 16/40\n",
      "2/2 [==============================] - 0s 53ms/step - loss: 0.7377 - accuracy: 0.8269 - val_loss: 0.9540 - val_accuracy: 0.6923\n",
      "Epoch 17/40\n",
      "2/2 [==============================] - 0s 56ms/step - loss: 0.6801 - accuracy: 0.8269 - val_loss: 0.9066 - val_accuracy: 0.6923\n",
      "Epoch 18/40\n",
      "2/2 [==============================] - 0s 54ms/step - loss: 0.6184 - accuracy: 0.9231 - val_loss: 0.8731 - val_accuracy: 0.6923\n",
      "Epoch 19/40\n",
      "2/2 [==============================] - 0s 57ms/step - loss: 0.5481 - accuracy: 0.9038 - val_loss: 0.8534 - val_accuracy: 0.6154\n",
      "Epoch 20/40\n",
      "2/2 [==============================] - 0s 54ms/step - loss: 0.4876 - accuracy: 0.8846 - val_loss: 0.8261 - val_accuracy: 0.6154\n",
      "Epoch 21/40\n",
      "2/2 [==============================] - 0s 68ms/step - loss: 0.4379 - accuracy: 0.9231 - val_loss: 0.7892 - val_accuracy: 0.6154\n",
      "Epoch 22/40\n",
      "2/2 [==============================] - 0s 66ms/step - loss: 0.3951 - accuracy: 0.8846 - val_loss: 0.7570 - val_accuracy: 0.6154\n",
      "Epoch 23/40\n",
      "2/2 [==============================] - 0s 55ms/step - loss: 0.3537 - accuracy: 0.8846 - val_loss: 0.7402 - val_accuracy: 0.6154\n",
      "Epoch 24/40\n",
      "2/2 [==============================] - 0s 55ms/step - loss: 0.3222 - accuracy: 0.9038 - val_loss: 0.7402 - val_accuracy: 0.6923\n",
      "Epoch 25/40\n",
      "2/2 [==============================] - 0s 53ms/step - loss: 0.2893 - accuracy: 0.9038 - val_loss: 0.7283 - val_accuracy: 0.6923\n",
      "Epoch 26/40\n",
      "2/2 [==============================] - 0s 55ms/step - loss: 0.2658 - accuracy: 0.9423 - val_loss: 0.7197 - val_accuracy: 0.6923\n",
      "Epoch 27/40\n",
      "2/2 [==============================] - 0s 56ms/step - loss: 0.2444 - accuracy: 0.9231 - val_loss: 0.7182 - val_accuracy: 0.6923\n",
      "Epoch 28/40\n",
      "2/2 [==============================] - 0s 57ms/step - loss: 0.2251 - accuracy: 0.9423 - val_loss: 0.7236 - val_accuracy: 0.6154\n",
      "Epoch 29/40\n",
      "2/2 [==============================] - 0s 54ms/step - loss: 0.2078 - accuracy: 0.9615 - val_loss: 0.7325 - val_accuracy: 0.6923\n",
      "Epoch 30/40\n",
      "2/2 [==============================] - 0s 55ms/step - loss: 0.1903 - accuracy: 0.9615 - val_loss: 0.7446 - val_accuracy: 0.7692\n",
      "Epoch 31/40\n",
      "2/2 [==============================] - 0s 54ms/step - loss: 0.1703 - accuracy: 0.9808 - val_loss: 0.7591 - val_accuracy: 0.7692\n",
      "Epoch 32/40\n",
      "2/2 [==============================] - 0s 54ms/step - loss: 0.1534 - accuracy: 0.9808 - val_loss: 0.7569 - val_accuracy: 0.7692\n",
      "Epoch 33/40\n",
      "2/2 [==============================] - 0s 59ms/step - loss: 0.1329 - accuracy: 0.9808 - val_loss: 0.8031 - val_accuracy: 0.7692\n",
      "Epoch 34/40\n",
      "2/2 [==============================] - 0s 55ms/step - loss: 0.1158 - accuracy: 1.0000 - val_loss: 0.7992 - val_accuracy: 0.7692\n",
      "Epoch 35/40\n",
      "2/2 [==============================] - 0s 60ms/step - loss: 0.0995 - accuracy: 1.0000 - val_loss: 0.8094 - val_accuracy: 0.7692\n",
      "Epoch 36/40\n",
      "2/2 [==============================] - 0s 58ms/step - loss: 0.0826 - accuracy: 1.0000 - val_loss: 0.8329 - val_accuracy: 0.7692\n",
      "Epoch 37/40\n",
      "2/2 [==============================] - 0s 66ms/step - loss: 0.0708 - accuracy: 1.0000 - val_loss: 0.8305 - val_accuracy: 0.8462\n",
      "Epoch 38/40\n",
      "2/2 [==============================] - 0s 78ms/step - loss: 0.0594 - accuracy: 1.0000 - val_loss: 0.8237 - val_accuracy: 0.8462\n",
      "Epoch 39/40\n",
      "2/2 [==============================] - 0s 64ms/step - loss: 0.0540 - accuracy: 1.0000 - val_loss: 0.8037 - val_accuracy: 0.7692\n",
      "Epoch 40/40\n",
      "2/2 [==============================] - 0s 57ms/step - loss: 0.0470 - accuracy: 1.0000 - val_loss: 0.8115 - val_accuracy: 0.7692\n"
     ]
    }
   ],
   "source": [
    "num_epochs = 40\n",
    "history = model.fit(train_X_pad, train_Y, epochs=num_epochs, validation_data=(test_X_pad, test_Y))"
   ]
  },
  {
   "cell_type": "markdown",
   "id": "fee6d623",
   "metadata": {},
   "source": [
    "## 8. Plot Accuracy and Loss / Epochs"
   ]
  },
  {
   "cell_type": "code",
   "execution_count": 86,
   "id": "933287af",
   "metadata": {},
   "outputs": [
    {
     "data": {
      "image/png": "[encoded data removed]",
      "text/plain": [
       "<Figure size 432x288 with 1 Axes>"
      ]
     },
     "metadata": {
      "needs_background": "light"
     },
     "output_type": "display_data"
    },
    {
     "data": {
      "image/png": "[encoded data removed]",
      "text/plain": [
       "<Figure size 432x288 with 1 Axes>"
      ]
     },
     "metadata": {
      "needs_background": "light"
     },
     "output_type": "display_data"
    }
   ],
   "source": [
    "import matplotlib.pyplot as plt\n",
    "\n",
    "def plot_graphs(history, string):\n",
    "  plt.plot(history.history[string])\n",
    "  plt.plot(history.history['val_'+string])\n",
    "  plt.xlabel(\"Epochs\")\n",
    "  plt.ylabel(string)\n",
    "  plt.legend([string, 'val_'+string])\n",
    "  plt.show()\n",
    "  \n",
    "plot_graphs(history, \"accuracy\")\n",
    "plot_graphs(history, \"loss\")"
   ]
  },
  {
   "cell_type": "markdown",
   "id": "3211e265",
   "metadata": {},
   "source": [
    "## 9. Test and Try"
   ]
  },
  {
   "cell_type": "code",
   "execution_count": 87,
   "id": "5e8e9247",
   "metadata": {},
   "outputs": [
    {
     "name": "stdout",
     "output_type": "stream",
     "text": [
      "تجديد الرخصة\n",
      "0.98274255\n"
     ]
    }
   ],
   "source": [
    "sen = preprocess('قم بتجديد رخصتي التجارية')\n",
    "train_X_seq = tokenizer.texts_to_sequences([sen])\n",
    "train_X_pad = pad_sequences(train_X_seq, maxlen=max_length, padding=padding_type, truncating=trunc_type)\n",
    "\n",
    "result = model.predict(train_X_pad)\n",
    "print(cat_encoder.categories_[0][result.argmax()])\n",
    "print(result.max())"
   ]
  },
  {
   "cell_type": "code",
   "execution_count": 88,
   "id": "fbfbef03",
   "metadata": {},
   "outputs": [
    {
     "name": "stdout",
     "output_type": "stream",
     "text": [
      "0.98274255\n",
      "تجديد الرخصة\n",
      "0.013787184\n",
      "اصدار الرخصة\n",
      "0.0033903355\n",
      "استعراض الرخصة\n",
      "7.139703e-05\n",
      "تعديل الرخصة\n"
     ]
    }
   ],
   "source": [
    "nr = result.argsort()\n",
    "predicted_result = nr[0][-4:]\n",
    "for i in predicted_result[::-1]:\n",
    "    print(result[0][i])\n",
    "    print(cat_encoder.categories_[0][i])"
   ]
  },
  {
   "cell_type": "code",
   "execution_count": null,
   "id": "f927a2dc",
   "metadata": {},
   "outputs": [],
   "source": []
  }
 ],
 "metadata": {
  "kernelspec": {
   "display_name": "Python 3 (ipykernel)",
   "language": "python",
   "name": "python3"
  },
  "language_info": {
   "codemirror_mode": {
    "name": "ipython",
    "version": 3
   },
   "file_extension": ".py",
   "mimetype": "text/x-python",
   "name": "python",
   "nbconvert_exporter": "python",
   "pygments_lexer": "ipython3",
   "version": "3.8.12"
  }
 },
 "nbformat": 4,
 "nbformat_minor": 5
}
