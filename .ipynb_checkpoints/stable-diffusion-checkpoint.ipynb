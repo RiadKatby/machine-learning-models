{
 "cells": [
  {
   "cell_type": "markdown",
   "id": "10eb587d",
   "metadata": {},
   "source": [
    "# High-performance image generation using Stable Diffusion\n",
    "\n",
    "KerasCV had implemented [Stable Diffusion](https://github.com/CompVis/stable-diffusion) powerfull, open source, text-to-image model. [XLA Compilation](https://www.tensorflow.org/xla) and [Mixed Precision](https://www.tensorflow.org/guide/mixed_precision) support achieve state-of-the-art generation speed, and make KerasCV's  one of the best implemebntations."
   ]
  },
  {
   "cell_type": "markdown",
   "id": "df56ff68",
   "metadata": {},
   "source": [
    "## 1. Install Dependencies and Import them\n",
    "**keras_cv** toolbox library for computer vision implementations such as image classification, object detection, image segmentation, image data augmentation etc\n",
    "\n",
    "**libcudnn8** GPU-accelerated library of primitives for deep neural networks. it provides highly tuned implementations for standard routines such as forward and backward convolution, pooling, normalization, and activation layers. "
   ]
  },
  {
   "cell_type": "code",
   "execution_count": 2,
   "id": "f76cdce2",
   "metadata": {},
   "outputs": [],
   "source": [
    "# Make Sure GPU is Selected. Go to Runtime Menu -> Change run type -> Harware Accelerator = GPU\n",
    "!pip install tensorflow keras_cv --upgrade --quiet\n",
    "!apt install --allow-change-held-packages libcudnn8=8.1.0.77-1+cuda11.2"
   ]
  },
  {
   "cell_type": "code",
   "execution_count": 7,
   "id": "c77ede5b",
   "metadata": {},
   "outputs": [],
   "source": [
    "import keras_cv\n",
    "from tensorflow import keras\n",
    "import matplotlib.pyplot as plt"
   ]
  },
  {
   "cell_type": "code",
   "execution_count": 8,
   "id": "44b01876",
   "metadata": {},
   "outputs": [],
   "source": [
    "def plot_images(images):\n",
    "    plt.figure(figsize=(30, 10))\n",
    "    for i in range(len(images)):\n",
    "        ax = plt.subplot(1, len(images), i + 1)\n",
    "        plt.imshow(images[i])\n",
    "        plt.axis(\"off\")"
   ]
  },
  {
   "cell_type": "markdown",
   "id": "4ec36032",
   "metadata": {},
   "source": [
    "## 2. Instanciate StableDiffusion Model"
   ]
  },
  {
   "cell_type": "code",
   "execution_count": null,
   "id": "ce8bd18c",
   "metadata": {},
   "outputs": [],
   "source": [
    "keras.mixed_precision.set_global_policy(\"mixed_float16\")\n",
    "model = keras_cv.models.StableDiffusion(jit_compile=True)"
   ]
  },
  {
   "cell_type": "markdown",
   "id": "a98e886e",
   "metadata": {},
   "source": [
    "## 3. Generate Image from Text"
   ]
  },
  {
   "cell_type": "code",
   "execution_count": 6,
   "id": "f8ba2e70",
   "metadata": {},
   "outputs": [],
   "source": [
    "images = model.text_to_image(\n",
    "    \"arabian people walking over the golden sands in front of amazing castle, \"\n",
    "     \"high quality, highly detailed, elegant, sharp focus, \",\n",
    "    batch_size=3,\n",
    ")\n",
    "plot_images(images)"
   ]
  },
  {
   "cell_type": "code",
   "execution_count": null,
   "id": "86242b13",
   "metadata": {},
   "outputs": [],
   "source": []
  },
  {
   "cell_type": "code",
   "execution_count": null,
   "id": "5cf58726",
   "metadata": {},
   "outputs": [],
   "source": []
  },
  {
   "cell_type": "code",
   "execution_count": null,
   "id": "c9f88c24",
   "metadata": {},
   "outputs": [],
   "source": []
  }
 ],
 "metadata": {
  "kernelspec": {
   "display_name": "Python 3 (ipykernel)",
   "language": "python",
   "name": "python3"
  },
  "language_info": {
   "codemirror_mode": {
    "name": "ipython",
    "version": 3
   },
   "file_extension": ".py",
   "mimetype": "text/x-python",
   "name": "python",
   "nbconvert_exporter": "python",
   "pygments_lexer": "ipython3",
   "version": "3.9.10"
  }
 },
 "nbformat": 4,
 "nbformat_minor": 5
}
