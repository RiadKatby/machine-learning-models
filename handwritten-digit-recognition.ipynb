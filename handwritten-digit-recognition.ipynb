{
 "cells": [
  {
   "cell_type": "markdown",
   "id": "0e5c8c00",
   "metadata": {},
   "source": [
    "# 5 Steps to Build Machine Learning Model to Recognize Handwritten Digits"
   ]
  },
  {
   "cell_type": "markdown",
   "id": "a4fc3812",
   "metadata": {},
   "source": [
    "# 1. Bring DataSet"
   ]
  },
  {
   "cell_type": "code",
   "execution_count": 1,
   "id": "ee3a4865",
   "metadata": {},
   "outputs": [
    {
     "data": {
      "text/plain": [
       "dict_keys(['data', 'target', 'frame', 'categories', 'feature_names', 'target_names', 'DESCR', 'details', 'url'])"
      ]
     },
     "execution_count": 1,
     "metadata": {},
     "output_type": "execute_result"
    }
   ],
   "source": [
    "from sklearn.datasets import fetch_openml\n",
    "mnist = fetch_openml('mnist_784', version=1, as_frame=False)\n",
    "mnist.keys()"
   ]
  },
  {
   "cell_type": "markdown",
   "id": "ccfb3a37",
   "metadata": {},
   "source": [
    "# 2. Prepear Train and Test Sets"
   ]
  },
  {
   "cell_type": "code",
   "execution_count": 20,
   "id": "0fec8b6a",
   "metadata": {},
   "outputs": [],
   "source": [
    "import numpy as np\n",
    "\n",
    "X, y = mnist[\"data\"], mnist[\"target\"]\n",
    "y = y.astype(np.uint8)\n",
    "\n",
    "X_train, X_test, y_train, y_test = X[:60000], X[60000:], y[:60000], y[60000:]"
   ]
  },
  {
   "cell_type": "markdown",
   "id": "4de3877b",
   "metadata": {},
   "source": [
    "# 3. Train Model"
   ]
  },
  {
   "cell_type": "code",
   "execution_count": 21,
   "id": "f5f13792",
   "metadata": {},
   "outputs": [
    {
     "data": {
      "text/plain": [
       "SGDClassifier()"
      ]
     },
     "execution_count": 21,
     "metadata": {},
     "output_type": "execute_result"
    }
   ],
   "source": [
    "from sklearn.linear_model import SGDClassifier\n",
    "\n",
    "sgd_classifer = SGDClassifier()\n",
    "sgd_classifer.fit(X_train, y_train)"
   ]
  },
  {
   "cell_type": "markdown",
   "id": "4171e6bf",
   "metadata": {},
   "source": [
    "# 4. Calculate Model Accuracy"
   ]
  },
  {
   "cell_type": "code",
   "execution_count": 9,
   "id": "6d7621d5",
   "metadata": {},
   "outputs": [
    {
     "data": {
      "text/plain": [
       "array([0.87365, 0.85835, 0.8689 ])"
      ]
     },
     "execution_count": 9,
     "metadata": {},
     "output_type": "execute_result"
    }
   ],
   "source": [
    "from sklearn.model_selection import cross_val_score\n",
    "cross_val_score(sgd_classifer, X_train, y_train, cv=3, scoring='accuracy')"
   ]
  },
  {
   "cell_type": "markdown",
   "id": "3d80e0f9",
   "metadata": {},
   "source": [
    "# Demo Trail"
   ]
  },
  {
   "cell_type": "code",
   "execution_count": 33,
   "id": "2de8da2e",
   "metadata": {},
   "outputs": [
    {
     "data": {
      "image/png": "[encoded data removed]",
      "text/plain": [
       "<Figure size 432x288 with 1 Axes>"
      ]
     },
     "metadata": {
      "needs_background": "light"
     },
     "output_type": "display_data"
    },
    {
     "name": "stdout",
     "output_type": "stream",
     "text": [
      "Actual Digit 6\n",
      "Predicted Digit 6\n"
     ]
    }
   ],
   "source": [
    "import matplotlib as mpl\n",
    "import matplotlib.pyplot as plt\n",
    "\n",
    "i = np.random.randint(len(X_test))\n",
    "\n",
    "some_digit = X_test[i]\n",
    "some_digit_image = some_digit.reshape(28, 28)\n",
    "\n",
    "plt.imshow(some_digit_image, cmap = mpl.cm.binary, interpolation=\"nearest\")\n",
    "plt.axis(\"off\")\n",
    "plt.show()\n",
    "\n",
    "print('Actual Digit %s' % y_test[i])\n",
    "\n",
    "print('Predicted Digit %s' % sgd_classifer.predict([some_digit])[0])"
   ]
  },
  {
   "cell_type": "code",
   "execution_count": null,
   "id": "22169ba5",
   "metadata": {},
   "outputs": [],
   "source": []
  }
 ],
 "metadata": {
  "kernelspec": {
   "display_name": "Python 3 (ipykernel)",
   "language": "python",
   "name": "python3"
  },
  "language_info": {
   "codemirror_mode": {
    "name": "ipython",
    "version": 3
   },
   "file_extension": ".py",
   "mimetype": "text/x-python",
   "name": "python",
   "nbconvert_exporter": "python",
   "pygments_lexer": "ipython3",
   "version": "3.9.10"
  }
 },
 "nbformat": 4,
 "nbformat_minor": 5
}
